{
  "nbformat": 4,
  "nbformat_minor": 0,
  "metadata": {
    "colab": {
      "provenance": [],
      "authorship_tag": "ABX9TyPBI6VLdrJR7flEI0c8Rg7N",
      "include_colab_link": true
    },
    "kernelspec": {
      "name": "python3",
      "display_name": "Python 3"
    },
    "language_info": {
      "name": "python"
    }
  },
  "cells": [
    {
      "cell_type": "markdown",
      "metadata": {
        "id": "view-in-github",
        "colab_type": "text"
      },
      "source": [
        "<a href=\"https://colab.research.google.com/github/AfreethSulfikar/Pre-Placement-Training-Program-assignment/blob/main/Assignment_14_Linked_Lis.ipynb\" target=\"_parent\"><img src=\"https://colab.research.google.com/assets/colab-badge.svg\" alt=\"Open In Colab\"/></a>"
      ]
    },
    {
      "cell_type": "markdown",
      "source": [
        "Question 1"
      ],
      "metadata": {
        "id": "PT-XegM2Z-uF"
      }
    },
    {
      "cell_type": "code",
      "execution_count": 2,
      "metadata": {
        "id": "YDSjdS3-fMOT",
        "colab": {
          "base_uri": "https://localhost:8080/"
        },
        "outputId": "4cfff0ec-49f4-4aee-f4a6-47e49b2117df"
      },
      "outputs": [
        {
          "output_type": "stream",
          "name": "stdout",
          "text": [
            "1 3 4 "
          ]
        }
      ],
      "source": [
        "class Node:\n",
        "    def __init__(self, value):\n",
        "        self.value = value\n",
        "        self.next = None\n",
        "\n",
        "def remove_loop(head):\n",
        "    slow = head\n",
        "    fast = head\n",
        "\n",
        "    # Detect if there's a loop\n",
        "    while fast and fast.next:\n",
        "        slow = slow.next\n",
        "        fast = fast.next.next\n",
        "        if slow == fast:\n",
        "            break\n",
        "\n",
        "    # If there's no loop, return the head\n",
        "    if slow != fast:\n",
        "        return head\n",
        "\n",
        "    # Move slow to the head and advance slow and fast one step at a time until they meet\n",
        "    slow = head\n",
        "    while slow.next != fast.next:\n",
        "        slow = slow.next\n",
        "        fast = fast.next\n",
        "\n",
        "    # Remove the loop by setting the next pointer of the last node to None\n",
        "    fast.next = None\n",
        "\n",
        "    return head\n",
        "\n",
        "# Test the code\n",
        "# Create the linked list: 1 -> 3 -> 4\n",
        "head = Node(1)\n",
        "head.next = Node(3)\n",
        "head.next.next = Node(4)\n",
        "head.next.next.next = head.next  # Creating the loop\n",
        "\n",
        "# Remove the loop\n",
        "head = remove_loop(head)\n",
        "\n",
        "# Print the resulting linked list\n",
        "current = head\n",
        "while current:\n",
        "    print(current.value, end=\" \")\n",
        "    current = current.next\n"
      ]
    },
    {
      "cell_type": "markdown",
      "source": [
        "Question 2"
      ],
      "metadata": {
        "id": "A-q3dXCYZ_jj"
      }
    },
    {
      "cell_type": "code",
      "source": [
        "class Node:\n",
        "    def __init__(self, value):\n",
        "        self.value = value\n",
        "        self.next = None\n",
        "\n",
        "\n",
        "def reverse_linked_list(head):\n",
        "    prev = None\n",
        "    current = head\n",
        "    while current:\n",
        "        next_node = current.next\n",
        "        current.next = prev\n",
        "        prev = current\n",
        "        current = next_node\n",
        "    return prev\n",
        "\n",
        "\n",
        "def add_one_to_linked_list(head):\n",
        "    # Reverse the linked list\n",
        "    head = reverse_linked_list(head)\n",
        "\n",
        "    current = head\n",
        "    carry = 1  # Initialize the carry to 1\n",
        "    while current:\n",
        "        current.value += carry\n",
        "        carry = current.value // 10  # Calculate the carry\n",
        "        current.value %= 10  # Update the current node value\n",
        "\n",
        "        if not current.next:\n",
        "            break\n",
        "        current = current.next\n",
        "\n",
        "    # If there's still a carry, create a new node and append it to the end\n",
        "    if carry:\n",
        "        current.next = Node(carry)\n",
        "\n",
        "    # Reverse the linked list again\n",
        "    head = reverse_linked_list(head)\n",
        "\n",
        "    return head\n",
        "\n",
        "\n",
        "# Test the code\n",
        "# Create the linked list: 4 -> 5 -> 6\n",
        "head = Node(4)\n",
        "head.next = Node(5)\n",
        "head.next.next = Node(6)\n",
        "\n",
        "# Add 1 to the linked list\n",
        "head = add_one_to_linked_list(head)\n",
        "\n",
        "# Print the resulting number\n",
        "current = head\n",
        "while current:\n",
        "    print(current.value, end=\"\")\n",
        "    current = current.next\n"
      ],
      "metadata": {
        "colab": {
          "base_uri": "https://localhost:8080/"
        },
        "id": "n_69kVxiZ_u8",
        "outputId": "4eee36cc-4cb3-406a-a373-1ecd0f4c35c8"
      },
      "execution_count": 3,
      "outputs": [
        {
          "output_type": "stream",
          "name": "stdout",
          "text": [
            "457"
          ]
        }
      ]
    },
    {
      "cell_type": "markdown",
      "source": [
        "Question 3"
      ],
      "metadata": {
        "id": "vpOOJ65bZ_0M"
      }
    },
    {
      "cell_type": "code",
      "source": [
        "class Node:\n",
        "    def __init__(self, value):\n",
        "        self.data = value\n",
        "        self.next = None\n",
        "        self.bottom = None\n",
        "\n",
        "\n",
        "def merge_sorted_lists(a, b):\n",
        "    if not a:\n",
        "        return b\n",
        "    if not b:\n",
        "        return a\n",
        "\n",
        "    result = None\n",
        "    if a.data <= b.data:\n",
        "        result = a\n",
        "        result.bottom = merge_sorted_lists(a.bottom, b)\n",
        "    else:\n",
        "        result = b\n",
        "        result.bottom = merge_sorted_lists(a, b.bottom)\n",
        "\n",
        "    return result\n",
        "\n",
        "\n",
        "def flatten_linked_list(head):\n",
        "    if not head or not head.next:\n",
        "        return head\n",
        "\n",
        "    # Recursively flatten the rest of the linked list\n",
        "    head.next = flatten_linked_list(head.next)\n",
        "\n",
        "    # Merge the current list with the flattened rest of the list\n",
        "    head = merge_sorted_lists(head, head.next)\n",
        "\n",
        "    return head\n",
        "\n",
        "\n",
        "# Test the code\n",
        "# Create the linked list: 5 -> 10 -> 19 -> 28\n",
        "head = Node(5)\n",
        "head.next = Node(10)\n",
        "head.next.next = Node(19)\n",
        "head.next.next.next = Node(28)\n",
        "\n",
        "# Set the bottom pointers\n",
        "head.bottom = Node(7)\n",
        "head.bottom.bottom = Node(8)\n",
        "head.next.bottom = Node(20)\n",
        "head.next.next.bottom = Node(22)\n",
        "head.next.next.next.bottom = Node(35)\n",
        "\n",
        "head.bottom.bottom.bottom = Node(30)\n",
        "head.next.next.bottom.bottom = Node(40)\n",
        "head.next.next.next.bottom.bottom = Node(45)\n",
        "head.next.next.next.bottom.bottom.bottom = Node(50)\n",
        "\n",
        "# Flatten the linked list\n",
        "head = flatten_linked_list(head)\n",
        "\n",
        "# Print the flattened linked list\n",
        "current = head\n",
        "while current:\n",
        "    print(current.data, end=\"-> \")\n",
        "    current = current.bottom\n",
        "\n"
      ],
      "metadata": {
        "colab": {
          "base_uri": "https://localhost:8080/"
        },
        "id": "MA9EUkq7Z_5h",
        "outputId": "80828041-2717-45c2-adf1-a66dc36da067"
      },
      "execution_count": 4,
      "outputs": [
        {
          "output_type": "stream",
          "name": "stdout",
          "text": [
            "5-> 7-> 8-> 10-> 19-> 20-> 22-> 28-> 30-> 35-> 40-> 45-> 50-> "
          ]
        }
      ]
    },
    {
      "cell_type": "markdown",
      "source": [
        "Question 4"
      ],
      "metadata": {
        "id": "ycQhBWAdaAHC"
      }
    },
    {
      "cell_type": "code",
      "source": [
        "class Node:\n",
        "    def __init__(self, value):\n",
        "        self.data = value\n",
        "        self.next = None\n",
        "        self.random = None\n",
        "\n",
        "\n",
        "def copy_linked_list(head):\n",
        "    if not head:\n",
        "        return None\n",
        "\n",
        "    # Create a mapping between original nodes and new nodes\n",
        "    node_map = {}\n",
        "    current = head\n",
        "    while current:\n",
        "        node_map[current] = Node(current.data)\n",
        "        current = current.next\n",
        "\n",
        "    # Set the next and random pointers of the new nodes\n",
        "    current = head\n",
        "    while current:\n",
        "        new_node = node_map[current]\n",
        "        new_node.next = node_map.get(current.next)\n",
        "        new_node.random = node_map.get(current.random)\n",
        "        current = current.next\n",
        "\n",
        "    return node_map[head]\n",
        "\n",
        "\n",
        "# Test the code\n",
        "# Create the original linked list: 1 -> 2 -> 3 -> 4\n",
        "head = Node(1)\n",
        "head.next = Node(2)\n",
        "head.next.next = Node(3)\n",
        "head.next.next.next = Node(4)\n",
        "\n",
        "# Set the random pointers\n",
        "head.random = head.next.next\n",
        "head.next.random = head.next.next.next\n",
        "\n",
        "# Copy the linked list\n",
        "copied_head = copy_linked_list(head)\n",
        "\n",
        "# Print the values and random pointers of the copied linked list\n",
        "current = copied_head\n",
        "while current:\n",
        "    print(\"Value:\", current.data, end=\", \")\n",
        "    if current.random:\n",
        "        print(\"Random:\", current.random.data)\n",
        "    else:\n",
        "        print(\"Random: None\")\n",
        "    current = current.next\n"
      ],
      "metadata": {
        "colab": {
          "base_uri": "https://localhost:8080/"
        },
        "id": "vS2_4L-caAMM",
        "outputId": "c91f6bbc-f948-4111-9033-b6fd6262d463"
      },
      "execution_count": 5,
      "outputs": [
        {
          "output_type": "stream",
          "name": "stdout",
          "text": [
            "Value: 1, Random: 3\n",
            "Value: 2, Random: 4\n",
            "Value: 3, Random: None\n",
            "Value: 4, Random: None\n"
          ]
        }
      ]
    },
    {
      "cell_type": "markdown",
      "source": [
        "Question 5"
      ],
      "metadata": {
        "id": "1lNcUZoaaASX"
      }
    },
    {
      "cell_type": "code",
      "source": [
        "class ListNode:\n",
        "    def __init__(self, value):\n",
        "        self.val = value\n",
        "        self.next = None\n",
        "\n",
        "\n",
        "def odd_even_linked_list(head):\n",
        "    if not head or not head.next:\n",
        "        return head\n",
        "\n",
        "    odd_head = head\n",
        "    even_head = head.next\n",
        "    odd_tail = odd_head\n",
        "    even_tail = even_head\n",
        "\n",
        "    current = even_head.next\n",
        "    is_odd = True\n",
        "\n",
        "    while current:\n",
        "        if is_odd:\n",
        "            odd_tail.next = current\n",
        "            odd_tail = odd_tail.next\n",
        "        else:\n",
        "            even_tail.next = current\n",
        "            even_tail = even_tail.next\n",
        "\n",
        "        current = current.next\n",
        "        is_odd = not is_odd\n",
        "\n",
        "    odd_tail.next = even_head\n",
        "    even_tail.next = None\n",
        "\n",
        "    return odd_head\n",
        "\n",
        "\n",
        "# Test the code\n",
        "# Create the linked list: 2 -> 1 -> 3 -> 5 -> 6 -> 4 -> 7\n",
        "head = ListNode(2)\n",
        "head.next = ListNode(1)\n",
        "head.next.next = ListNode(3)\n",
        "head.next.next.next = ListNode(5)\n",
        "head.next.next.next.next = ListNode(6)\n",
        "head.next.next.next.next.next = ListNode(4)\n",
        "head.next.next.next.next.next.next = ListNode(7)\n",
        "\n",
        "# Reorder the linked list\n",
        "reordered_head = odd_even_linked_list(head)\n",
        "\n",
        "# Print the reordered linked list\n",
        "current = reordered_head\n",
        "while current:\n",
        "    print(current.val, end=\" -> \")\n",
        "    current = current.next\n"
      ],
      "metadata": {
        "colab": {
          "base_uri": "https://localhost:8080/"
        },
        "id": "gAFv5VIyaAYV",
        "outputId": "996cbcee-aead-4f1a-8094-a11359ba892f"
      },
      "execution_count": 6,
      "outputs": [
        {
          "output_type": "stream",
          "name": "stdout",
          "text": [
            "2 -> 3 -> 6 -> 7 -> 1 -> 5 -> 4 -> "
          ]
        }
      ]
    },
    {
      "cell_type": "markdown",
      "source": [
        "Question 6"
      ],
      "metadata": {
        "id": "5KkS0UWVaAd8"
      }
    },
    {
      "cell_type": "code",
      "source": [
        "class ListNode:\n",
        "    def __init__(self, value):\n",
        "        self.val = value\n",
        "        self.next = None\n",
        "\n",
        "\n",
        "def left_shift_linked_list(head, k):\n",
        "    if not head or not head.next or k == 0:\n",
        "        return head\n",
        "\n",
        "    length = 1\n",
        "    current = head\n",
        "    while current.next:\n",
        "        length += 1\n",
        "        current = current.next\n",
        "\n",
        "    if k >= length:\n",
        "        return head\n",
        "\n",
        "    kth_node = head\n",
        "    for _ in range(k - 1):\n",
        "        kth_node = kth_node.next\n",
        "\n",
        "    shifted_head = kth_node.next\n",
        "    kth_node.next = None\n",
        "    current.next = head\n",
        "\n",
        "    return shifted_head\n",
        "\n",
        "\n",
        "# Test the code\n",
        "# Create the linked list: 2 -> 4 -> 7 -> 8 -> 9\n",
        "head = ListNode(2)\n",
        "head.next = ListNode(4)\n",
        "head.next.next = ListNode(7)\n",
        "head.next.next.next = ListNode(8)\n",
        "head.next.next.next.next = ListNode(9)\n",
        "\n",
        "# Left-shift the linked list by 3 nodes\n",
        "shifted_head = left_shift_linked_list(head, 3)\n",
        "\n",
        "# Print the shifted linked list\n",
        "current = shifted_head\n",
        "while current:\n",
        "    print(current.val, end=\" -> \")\n",
        "    current = current.next\n"
      ],
      "metadata": {
        "colab": {
          "base_uri": "https://localhost:8080/"
        },
        "id": "WmoRwGjhaAjT",
        "outputId": "af12aff0-94ac-412a-bb30-1e375f0bb4d1"
      },
      "execution_count": 7,
      "outputs": [
        {
          "output_type": "stream",
          "name": "stdout",
          "text": [
            "8 -> 9 -> 2 -> 4 -> 7 -> "
          ]
        }
      ]
    },
    {
      "cell_type": "markdown",
      "source": [
        "Question 7"
      ],
      "metadata": {
        "id": "tfaErBPTaAof"
      }
    },
    {
      "cell_type": "code",
      "source": [
        "class ListNode:\n",
        "    def __init__(self, value):\n",
        "        self.val = value\n",
        "        self.next = None\n",
        "\n",
        "\n",
        "def next_greater_nodes(head):\n",
        "    values = []\n",
        "    current = head\n",
        "    while current:\n",
        "        values.append(current.val)\n",
        "        current = current.next\n",
        "\n",
        "    stack = []\n",
        "    result = [0] * len(values)\n",
        "\n",
        "    for i in range(len(values) - 1, -1, -1):\n",
        "        while stack and values[i] >= stack[-1]:\n",
        "            stack.pop()\n",
        "\n",
        "        if stack:\n",
        "            result[i] = stack[-1]\n",
        "\n",
        "        stack.append(values[i])\n",
        "\n",
        "    return result\n",
        "\n",
        "\n",
        "# Test the code\n",
        "# Create the linked list: 2 -> 1 -> 5\n",
        "head = ListNode(2)\n",
        "head.next = ListNode(1)\n",
        "head.next.next = ListNode(5)\n",
        "\n",
        "# Find the next greater nodes\n",
        "result = next_greater_nodes(head)\n",
        "\n",
        "# Print the result\n",
        "print(result)\n"
      ],
      "metadata": {
        "colab": {
          "base_uri": "https://localhost:8080/"
        },
        "id": "jZfNxZeuaAtZ",
        "outputId": "490b1c51-eb53-433c-8d6d-65aef1c2d484"
      },
      "execution_count": 8,
      "outputs": [
        {
          "output_type": "stream",
          "name": "stdout",
          "text": [
            "[5, 5, 0]\n"
          ]
        }
      ]
    },
    {
      "cell_type": "markdown",
      "source": [
        "Question 8"
      ],
      "metadata": {
        "id": "g9Q71thqaA10"
      }
    },
    {
      "cell_type": "code",
      "source": [
        "class ListNode:\n",
        "    def __init__(self, value):\n",
        "        self.val = value\n",
        "        self.next = None\n",
        "\n",
        "\n",
        "def remove_zero_sum_sublists(head):\n",
        "    dummy = ListNode(0)\n",
        "    dummy.next = head\n",
        "\n",
        "    cum_sum = 0\n",
        "    sum_dict = {}\n",
        "    current = dummy\n",
        "\n",
        "    while current:\n",
        "        cum_sum += current.val\n",
        "\n",
        "        if cum_sum in sum_dict:\n",
        "            prev = sum_dict[cum_sum].next\n",
        "            remove_sum = cum_sum + prev.val\n",
        "\n",
        "            while prev != current:\n",
        "                sum_dict.pop(remove_sum)\n",
        "                prev = prev.next\n",
        "                remove_sum += prev.val\n",
        "\n",
        "            sum_dict[cum_sum].next = current.next\n",
        "        else:\n",
        "            sum_dict[cum_sum] = current\n",
        "\n",
        "        current = current.next\n",
        "\n",
        "    return dummy.next\n",
        "\n",
        "\n",
        "# Test the code\n",
        "# Create the linked list: 1 -> 2 -> -3 -> 3 -> 1\n",
        "head = ListNode(1)\n",
        "head.next = ListNode(2)\n",
        "head.next.next = ListNode(-3)\n",
        "head.next.next.next = ListNode(3)\n",
        "head.next.next.next.next = ListNode(1)\n",
        "\n",
        "# Remove consecutive sequences that sum to 0\n",
        "result = remove_zero_sum_sublists(head)\n",
        "\n",
        "# Print the result\n",
        "current = result\n",
        "while current:\n",
        "    print(current.val, end=\" -> \")\n",
        "    current = current.next\n"
      ],
      "metadata": {
        "colab": {
          "base_uri": "https://localhost:8080/"
        },
        "id": "RAiqPz9DaA9l",
        "outputId": "4cbee488-1e4f-4e3d-c36f-46c219bafb62"
      },
      "execution_count": 9,
      "outputs": [
        {
          "output_type": "stream",
          "name": "stdout",
          "text": [
            "3 -> 1 -> "
          ]
        }
      ]
    }
  ]
}