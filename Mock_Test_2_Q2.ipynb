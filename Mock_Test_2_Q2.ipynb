{
  "nbformat": 4,
  "nbformat_minor": 0,
  "metadata": {
    "colab": {
      "provenance": [],
      "authorship_tag": "ABX9TyPeK6HYEAX2mdQ7HileVKeZ",
      "include_colab_link": true
    },
    "kernelspec": {
      "name": "python3",
      "display_name": "Python 3"
    },
    "language_info": {
      "name": "python"
    }
  },
  "cells": [
    {
      "cell_type": "markdown",
      "metadata": {
        "id": "view-in-github",
        "colab_type": "text"
      },
      "source": [
        "<a href=\"https://colab.research.google.com/github/AfreethSulfikar/Pre-Placement-Training-Program-assignment/blob/main/Mock_Test_2_Q2.ipynb\" target=\"_parent\"><img src=\"https://colab.research.google.com/assets/colab-badge.svg\" alt=\"Open In Colab\"/></a>"
      ]
    },
    {
      "cell_type": "code",
      "execution_count": 1,
      "metadata": {
        "colab": {
          "base_uri": "https://localhost:8080/"
        },
        "id": "0oX1kInQd81e",
        "outputId": "e380322e-5055-4205-fe0b-ab02cf8c3b5a"
      },
      "outputs": [
        {
          "output_type": "stream",
          "name": "stdout",
          "text": [
            "7 0 8 0 8 9 9 9 0 0 0 1 "
          ]
        }
      ],
      "source": [
        "class ListNode:\n",
        "    def __init__(self, val=0, next=None):\n",
        "        self.val = val\n",
        "        self.next = next\n",
        "\n",
        "def addTwoNumbers(l1, l2):\n",
        "    dummy = ListNode()\n",
        "    curr = dummy\n",
        "    carry = 0\n",
        "\n",
        "    while l1 or l2 or carry:\n",
        "        sum_val = carry\n",
        "\n",
        "        if l1:\n",
        "            sum_val += l1.val\n",
        "            l1 = l1.next\n",
        "\n",
        "        if l2:\n",
        "            sum_val += l2.val\n",
        "            l2 = l2.next\n",
        "\n",
        "        carry = sum_val // 10\n",
        "        digit = sum_val % 10\n",
        "\n",
        "        curr.next = ListNode(digit)\n",
        "        curr = curr.next\n",
        "\n",
        "    return dummy.next\n",
        "\n",
        "# Test case 1\n",
        "l1 = ListNode(2)\n",
        "l1.next = ListNode(4)\n",
        "l1.next.next = ListNode(3)\n",
        "\n",
        "l2 = ListNode(5)\n",
        "l2.next = ListNode(6)\n",
        "l2.next.next = ListNode(4)\n",
        "\n",
        "result = addTwoNumbers(l1, l2)\n",
        "while result:\n",
        "    print(result.val, end=\" \")\n",
        "    result = result.next\n",
        "# Output: 7 0 8\n",
        "\n",
        "# Test case 2\n",
        "l1 = ListNode(0)\n",
        "l2 = ListNode(0)\n",
        "\n",
        "result = addTwoNumbers(l1, l2)\n",
        "while result:\n",
        "    print(result.val, end=\" \")\n",
        "    result = result.next\n",
        "# Output: 0\n",
        "\n",
        "# Test case 3\n",
        "l1 = ListNode(9)\n",
        "l1.next = ListNode(9)\n",
        "l1.next.next = ListNode(9)\n",
        "l1.next.next.next = ListNode(9)\n",
        "l1.next.next.next.next = ListNode(9)\n",
        "l1.next.next.next.next.next = ListNode(9)\n",
        "l1.next.next.next.next.next.next = ListNode(9)\n",
        "\n",
        "l2 = ListNode(9)\n",
        "l2.next = ListNode(9)\n",
        "l2.next.next = ListNode(9)\n",
        "l2.next.next.next = ListNode(9)\n",
        "\n",
        "result = addTwoNumbers(l1, l2)\n",
        "while result:\n",
        "    print(result.val, end=\" \")\n",
        "    result = result.next\n",
        "# Output: 8 9 9 9 0 0 0 1\n"
      ]
    }
  ]
}